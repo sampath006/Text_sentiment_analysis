{
 "cells": [
  {
   "cell_type": "code",
   "execution_count": 1,
   "metadata": {},
   "outputs": [],
   "source": [
    "import pandas as pd\n",
    "import random\n",
    "import numpy as np\n",
    "from sklearn.metrics import accuracy_score\n",
    "from sklearn.metrics import confusion_matrix\n",
    "import matplotlib.pyplot as plt\n",
    "%matplotlib inline"
   ]
  },
  {
   "cell_type": "code",
   "execution_count": 2,
   "metadata": {
    "colab": {
     "base_uri": "https://localhost:8080/",
     "height": 35
    },
    "id": "XJdIoTfgFL11",
    "outputId": "9b1600f4-397c-44fe-e777-7b69b547e8f7"
   },
   "outputs": [
    {
     "data": {
      "text/plain": [
       "'Reddit_Data.csv'"
      ]
     },
     "execution_count": 2,
     "metadata": {},
     "output_type": "execute_result"
    }
   ],
   "source": [
    "import os\n",
    "\n",
    "path = os.path.join('Reddit_Data.csv')\n",
    "path"
   ]
  },
  {
   "cell_type": "code",
   "execution_count": 3,
   "metadata": {
    "colab": {
     "base_uri": "https://localhost:8080/",
     "height": 206
    },
    "id": "Ni7QMZ4rFS_y",
    "outputId": "22f5556f-dacc-451c-a073-430edb6d7f0c"
   },
   "outputs": [
    {
     "data": {
      "text/html": [
       "<div>\n",
       "<style scoped>\n",
       "    .dataframe tbody tr th:only-of-type {\n",
       "        vertical-align: middle;\n",
       "    }\n",
       "\n",
       "    .dataframe tbody tr th {\n",
       "        vertical-align: top;\n",
       "    }\n",
       "\n",
       "    .dataframe thead th {\n",
       "        text-align: right;\n",
       "    }\n",
       "</style>\n",
       "<table border=\"1\" class=\"dataframe\">\n",
       "  <thead>\n",
       "    <tr style=\"text-align: right;\">\n",
       "      <th></th>\n",
       "      <th>clean_comment</th>\n",
       "      <th>category</th>\n",
       "    </tr>\n",
       "  </thead>\n",
       "  <tbody>\n",
       "    <tr>\n",
       "      <th>0</th>\n",
       "      <td>family mormon have never tried explain them t...</td>\n",
       "      <td>1</td>\n",
       "    </tr>\n",
       "    <tr>\n",
       "      <th>1</th>\n",
       "      <td>buddhism has very much lot compatible with chr...</td>\n",
       "      <td>1</td>\n",
       "    </tr>\n",
       "    <tr>\n",
       "      <th>2</th>\n",
       "      <td>seriously don say thing first all they won get...</td>\n",
       "      <td>-1</td>\n",
       "    </tr>\n",
       "    <tr>\n",
       "      <th>3</th>\n",
       "      <td>what you have learned yours and only yours wha...</td>\n",
       "      <td>0</td>\n",
       "    </tr>\n",
       "    <tr>\n",
       "      <th>4</th>\n",
       "      <td>for your own benefit you may want read living ...</td>\n",
       "      <td>1</td>\n",
       "    </tr>\n",
       "  </tbody>\n",
       "</table>\n",
       "</div>"
      ],
      "text/plain": [
       "                                       clean_comment  category\n",
       "0   family mormon have never tried explain them t...         1\n",
       "1  buddhism has very much lot compatible with chr...         1\n",
       "2  seriously don say thing first all they won get...        -1\n",
       "3  what you have learned yours and only yours wha...         0\n",
       "4  for your own benefit you may want read living ...         1"
      ]
     },
     "execution_count": 3,
     "metadata": {},
     "output_type": "execute_result"
    }
   ],
   "source": [
    "\n",
    "data = pd.read_csv(path)\n",
    "data.head()"
   ]
  },
  {
   "cell_type": "code",
   "execution_count": 4,
   "metadata": {
    "id": "--21XMfk9u4S"
   },
   "outputs": [],
   "source": [
    "data.loc[0,'clean_comment']='aaa'+data.loc[0,'clean_comment']"
   ]
  },
  {
   "cell_type": "code",
   "execution_count": 5,
   "metadata": {
    "colab": {
     "base_uri": "https://localhost:8080/",
     "height": 206
    },
    "id": "VPh2dCCw-XEN",
    "outputId": "70c78388-6c15-4921-a3cf-7029ba423560"
   },
   "outputs": [
    {
     "data": {
      "text/html": [
       "<div>\n",
       "<style scoped>\n",
       "    .dataframe tbody tr th:only-of-type {\n",
       "        vertical-align: middle;\n",
       "    }\n",
       "\n",
       "    .dataframe tbody tr th {\n",
       "        vertical-align: top;\n",
       "    }\n",
       "\n",
       "    .dataframe thead th {\n",
       "        text-align: right;\n",
       "    }\n",
       "</style>\n",
       "<table border=\"1\" class=\"dataframe\">\n",
       "  <thead>\n",
       "    <tr style=\"text-align: right;\">\n",
       "      <th></th>\n",
       "      <th>clean_comment</th>\n",
       "      <th>category</th>\n",
       "    </tr>\n",
       "  </thead>\n",
       "  <tbody>\n",
       "    <tr>\n",
       "      <th>0</th>\n",
       "      <td>aaa family mormon have never tried explain the...</td>\n",
       "      <td>1</td>\n",
       "    </tr>\n",
       "    <tr>\n",
       "      <th>1</th>\n",
       "      <td>buddhism has very much lot compatible with chr...</td>\n",
       "      <td>1</td>\n",
       "    </tr>\n",
       "    <tr>\n",
       "      <th>2</th>\n",
       "      <td>seriously don say thing first all they won get...</td>\n",
       "      <td>-1</td>\n",
       "    </tr>\n",
       "    <tr>\n",
       "      <th>3</th>\n",
       "      <td>what you have learned yours and only yours wha...</td>\n",
       "      <td>0</td>\n",
       "    </tr>\n",
       "    <tr>\n",
       "      <th>4</th>\n",
       "      <td>for your own benefit you may want read living ...</td>\n",
       "      <td>1</td>\n",
       "    </tr>\n",
       "  </tbody>\n",
       "</table>\n",
       "</div>"
      ],
      "text/plain": [
       "                                       clean_comment  category\n",
       "0  aaa family mormon have never tried explain the...         1\n",
       "1  buddhism has very much lot compatible with chr...         1\n",
       "2  seriously don say thing first all they won get...        -1\n",
       "3  what you have learned yours and only yours wha...         0\n",
       "4  for your own benefit you may want read living ...         1"
      ]
     },
     "execution_count": 5,
     "metadata": {},
     "output_type": "execute_result"
    }
   ],
   "source": [
    "data.head()"
   ]
  },
  {
   "cell_type": "code",
   "execution_count": 6,
   "metadata": {
    "id": "zbVkeLS7_J6-"
   },
   "outputs": [],
   "source": [
    "data['category_str']=data['category'].replace([1,0,-1],['Positive','Neutral','Negative'])\n",
    "data['category']=data['category'].replace([-1],[2])"
   ]
  },
  {
   "cell_type": "code",
   "execution_count": 7,
   "metadata": {
    "colab": {
     "base_uri": "https://localhost:8080/"
    },
    "id": "UKi-WuOkHqKi",
    "outputId": "0d2dcd25-2183-4937-cfa3-4798a9687458"
   },
   "outputs": [
    {
     "name": "stdout",
     "output_type": "stream",
     "text": [
      "data is \n",
      "                                        clean_comment  category category_str\n",
      "0  aaa family mormon have never tried explain the...         1     Positive\n",
      "1  buddhism has very much lot compatible with chr...         1     Positive\n",
      "2  seriously don say thing first all they won get...         2     Negative\n",
      "3  what you have learned yours and only yours wha...         0      Neutral\n",
      "4  for your own benefit you may want read living ...         1     Positive\n",
      "data shape is\n",
      " clean_comment    37149\n",
      "category         37249\n",
      "category_str     37249\n",
      "dtype: int64\n"
     ]
    }
   ],
   "source": [
    "print(\"data is \\n\", data.head())\n",
    "print(\"data shape is\\n\", data.count())"
   ]
  },
  {
   "cell_type": "code",
   "execution_count": 8,
   "metadata": {
    "colab": {
     "base_uri": "https://localhost:8080/"
    },
    "id": "ft_gtDj4Ohju",
    "outputId": "cb30f124-a935-4820-a109-6d504b207702"
   },
   "outputs": [
    {
     "data": {
      "text/plain": [
       "100"
      ]
     },
     "execution_count": 8,
     "metadata": {},
     "output_type": "execute_result"
    }
   ],
   "source": [
    "# rows_with_nan = [index for index, row in data.iterrows() if row.isnull().any()]\n",
    "data['clean_comment'].isna().sum()\n"
   ]
  },
  {
   "cell_type": "code",
   "execution_count": 9,
   "metadata": {
    "colab": {
     "base_uri": "https://localhost:8080/",
     "height": 206
    },
    "id": "pu72QPDhO42-",
    "outputId": "0104c5a7-496b-47df-fb26-c4c09327e1cc"
   },
   "outputs": [
    {
     "data": {
      "text/html": [
       "<div>\n",
       "<style scoped>\n",
       "    .dataframe tbody tr th:only-of-type {\n",
       "        vertical-align: middle;\n",
       "    }\n",
       "\n",
       "    .dataframe tbody tr th {\n",
       "        vertical-align: top;\n",
       "    }\n",
       "\n",
       "    .dataframe thead th {\n",
       "        text-align: right;\n",
       "    }\n",
       "</style>\n",
       "<table border=\"1\" class=\"dataframe\">\n",
       "  <thead>\n",
       "    <tr style=\"text-align: right;\">\n",
       "      <th></th>\n",
       "      <th>clean_comment</th>\n",
       "      <th>category</th>\n",
       "      <th>category_str</th>\n",
       "    </tr>\n",
       "  </thead>\n",
       "  <tbody>\n",
       "    <tr>\n",
       "      <th>0</th>\n",
       "      <td>aaa family mormon have never tried explain the...</td>\n",
       "      <td>1</td>\n",
       "      <td>Positive</td>\n",
       "    </tr>\n",
       "    <tr>\n",
       "      <th>1</th>\n",
       "      <td>buddhism has very much lot compatible with chr...</td>\n",
       "      <td>1</td>\n",
       "      <td>Positive</td>\n",
       "    </tr>\n",
       "    <tr>\n",
       "      <th>2</th>\n",
       "      <td>seriously don say thing first all they won get...</td>\n",
       "      <td>2</td>\n",
       "      <td>Negative</td>\n",
       "    </tr>\n",
       "    <tr>\n",
       "      <th>3</th>\n",
       "      <td>what you have learned yours and only yours wha...</td>\n",
       "      <td>0</td>\n",
       "      <td>Neutral</td>\n",
       "    </tr>\n",
       "    <tr>\n",
       "      <th>4</th>\n",
       "      <td>for your own benefit you may want read living ...</td>\n",
       "      <td>1</td>\n",
       "      <td>Positive</td>\n",
       "    </tr>\n",
       "    <tr>\n",
       "      <th>5</th>\n",
       "      <td>you should all sit down together and watch the...</td>\n",
       "      <td>2</td>\n",
       "      <td>Negative</td>\n",
       "    </tr>\n",
       "    <tr>\n",
       "      <th>6</th>\n",
       "      <td>was teens when discovered zen meditation was ...</td>\n",
       "      <td>1</td>\n",
       "      <td>Positive</td>\n",
       "    </tr>\n",
       "    <tr>\n",
       "      <th>7</th>\n",
       "      <td>jesus was zen meets jew</td>\n",
       "      <td>0</td>\n",
       "      <td>Neutral</td>\n",
       "    </tr>\n",
       "    <tr>\n",
       "      <th>8</th>\n",
       "      <td>there are two varieties christians dogmatic th...</td>\n",
       "      <td>2</td>\n",
       "      <td>Negative</td>\n",
       "    </tr>\n",
       "    <tr>\n",
       "      <th>9</th>\n",
       "      <td>dont worry about trying explain yourself just ...</td>\n",
       "      <td>1</td>\n",
       "      <td>Positive</td>\n",
       "    </tr>\n",
       "  </tbody>\n",
       "</table>\n",
       "</div>"
      ],
      "text/plain": [
       "                                       clean_comment  category category_str\n",
       "0  aaa family mormon have never tried explain the...         1     Positive\n",
       "1  buddhism has very much lot compatible with chr...         1     Positive\n",
       "2  seriously don say thing first all they won get...         2     Negative\n",
       "3  what you have learned yours and only yours wha...         0      Neutral\n",
       "4  for your own benefit you may want read living ...         1     Positive\n",
       "5  you should all sit down together and watch the...         2     Negative\n",
       "6   was teens when discovered zen meditation was ...         1     Positive\n",
       "7                           jesus was zen meets jew          0      Neutral\n",
       "8  there are two varieties christians dogmatic th...         2     Negative\n",
       "9  dont worry about trying explain yourself just ...         1     Positive"
      ]
     },
     "execution_count": 9,
     "metadata": {},
     "output_type": "execute_result"
    }
   ],
   "source": [
    "# print(rows_with_nan)\n",
    "data.head(10)"
   ]
  },
  {
   "cell_type": "code",
   "execution_count": 10,
   "metadata": {
    "colab": {
     "base_uri": "https://localhost:8080/"
    },
    "id": "s5pEmAR3O8_M",
    "outputId": "ecc963f9-a838-4dfa-904e-040cbc99221b"
   },
   "outputs": [
    {
     "name": "stdout",
     "output_type": "stream",
     "text": [
      "clean_comment        NaN\n",
      "category               0\n",
      "category_str     Neutral\n",
      "Name: 413, dtype: object\n"
     ]
    }
   ],
   "source": [
    "print(data.loc[413])"
   ]
  },
  {
   "cell_type": "code",
   "execution_count": 11,
   "metadata": {
    "colab": {
     "base_uri": "https://localhost:8080/"
    },
    "id": "oVWaNCd4KymF",
    "outputId": "f0219ec1-68fa-4732-e541-55f81ad10aa3"
   },
   "outputs": [
    {
     "name": "stdout",
     "output_type": "stream",
     "text": [
      "clean_comment    37149\n",
      "category         37249\n",
      "category_str     37249\n",
      "dtype: int64\n"
     ]
    }
   ],
   "source": [
    "print(data.count())\n"
   ]
  },
  {
   "cell_type": "code",
   "execution_count": 12,
   "metadata": {
    "id": "B1XsdTgNLgSu"
   },
   "outputs": [],
   "source": [
    "data=data.dropna()"
   ]
  },
  {
   "cell_type": "code",
   "execution_count": 13,
   "metadata": {
    "colab": {
     "base_uri": "https://localhost:8080/"
    },
    "id": "GrIYBYS5QQPg",
    "outputId": "80551f56-63b0-47c4-f039-6b5d5a321dba"
   },
   "outputs": [
    {
     "data": {
      "text/plain": [
       "0"
      ]
     },
     "execution_count": 13,
     "metadata": {},
     "output_type": "execute_result"
    }
   ],
   "source": [
    "# rows_with_nan = [index for index, row in data.iterrows() if row.isnull().any()]\n",
    "# print(rows_with_nan)\n",
    "data['clean_comment'].isna().sum()\n"
   ]
  },
  {
   "cell_type": "code",
   "execution_count": 14,
   "metadata": {
    "colab": {
     "base_uri": "https://localhost:8080/"
    },
    "id": "krt91hwbMyKw",
    "outputId": "cb33a217-7483-467f-9f5c-7848a8dfdcf6"
   },
   "outputs": [
    {
     "data": {
      "text/plain": [
       "(37149, 3)"
      ]
     },
     "execution_count": 14,
     "metadata": {},
     "output_type": "execute_result"
    }
   ],
   "source": [
    "data.shape"
   ]
  },
  {
   "cell_type": "code",
   "execution_count": 15,
   "metadata": {
    "colab": {
     "base_uri": "https://localhost:8080/"
    },
    "id": "oPQFJ8_7M-SH",
    "outputId": "8eadcfc7-86d8-4a61-b104-1563dfb0341d"
   },
   "outputs": [
    {
     "name": "stdout",
     "output_type": "stream",
     "text": [
      "category_str\n",
      "Negative     8277\n",
      "Neutral     13042\n",
      "Positive    15830\n",
      "dtype: int64\n"
     ]
    }
   ],
   "source": [
    "print(data.groupby('category_str').size())"
   ]
  },
  {
   "cell_type": "code",
   "execution_count": 16,
   "metadata": {
    "id": "u4Y85su-fxyb"
   },
   "outputs": [],
   "source": [
    "tempp = data.index[data['category_str'] == \"Positive\"].tolist()\n",
    "tempnt = data.index[data['category_str'] == \"Negative\"].tolist()\n",
    "tempne = data.index[data['category_str'] == \"Neutral\"].tolist()\n"
   ]
  },
  {
   "cell_type": "code",
   "execution_count": 17,
   "metadata": {
    "colab": {
     "base_uri": "https://localhost:8080/"
    },
    "id": "W3oJeXWgf_Bg",
    "outputId": "55967bd8-f2fa-4ed0-db82-0785c02874d1"
   },
   "outputs": [
    {
     "name": "stdout",
     "output_type": "stream",
     "text": [
      "15830 8277 13042\n"
     ]
    }
   ],
   "source": [
    "print(len(tempp),len(tempnt),len(tempne))"
   ]
  },
  {
   "cell_type": "code",
   "execution_count": 18,
   "metadata": {},
   "outputs": [],
   "source": [
    "\n",
    "\n",
    "\n",
    "data.drop(random.sample(tempp, len(tempp)-8000),inplace=True,axis=0,)\n",
    "data.drop(random.sample(tempnt, len(tempnt)-8000),inplace=True,axis=0,)\n",
    "data.drop(random.sample(tempne, len(tempne)-8000),inplace=True,axis=0,)\n",
    "\n"
   ]
  },
  {
   "cell_type": "code",
   "execution_count": 19,
   "metadata": {
    "id": "g1nEW19RjyDp"
   },
   "outputs": [],
   "source": [
    "ind=pd.Index(range(len(data)))\n",
    "data = data.set_index(ind)\n"
   ]
  },
  {
   "cell_type": "code",
   "execution_count": 20,
   "metadata": {
    "colab": {
     "base_uri": "https://localhost:8080/"
    },
    "id": "09HFE2dLi2y7",
    "outputId": "164a0928-a3c1-43c3-9809-cc2aa1b57653"
   },
   "outputs": [
    {
     "name": "stdout",
     "output_type": "stream",
     "text": [
      "clean_comment    aaa family mormon have never tried explain the...\n",
      "category                                                         1\n",
      "category_str                                              Positive\n",
      "Name: 0, dtype: object\n"
     ]
    }
   ],
   "source": [
    "# data.set_index([0:24000])\n",
    "print(data.loc[0])"
   ]
  },
  {
   "cell_type": "markdown",
   "metadata": {
    "id": "923NR2P1fMXI"
   },
   "source": [
    "PreProcessing"
   ]
  },
  {
   "cell_type": "code",
   "execution_count": 21,
   "metadata": {
    "id": "1TPG5k-6lL-A"
   },
   "outputs": [],
   "source": [
    "vowels = ['a','e','i','o','u']\n",
    "\n",
    "def vowel_finder(word):\n",
    "  for i in range(len(word)):\n",
    "    if word[i] in vowels or (i > 0 and word[i]=='y' and word[i-1] not in vowels):\n",
    "      return True\n",
    "  return False"
   ]
  },
  {
   "cell_type": "code",
   "execution_count": 22,
   "metadata": {
    "id": "X5PRvythlL0C"
   },
   "outputs": [],
   "source": [
    "def double_consonant(word):\n",
    "  if len(word) < 2:\n",
    "    return False\n",
    "  if word[0] == word[1]:\n",
    "    if word[0] not in vowels:\n",
    "      return True\n",
    "  return False"
   ]
  },
  {
   "cell_type": "code",
   "execution_count": 23,
   "metadata": {
    "id": "qFsqKFpulLqd"
   },
   "outputs": [],
   "source": [
    "def in_cvc_format(word):\n",
    "  if len(word) == 3:\n",
    "    if (word[0] not in vowels) and word[1] in vowels and (word[2] not in vowels and word[2] not in ['w','x','y']):\n",
    "      return True\n",
    "  elif len(word)==4:\n",
    "    if (word[1] not in vowels) or (word [1] == 'y' and word[0] in vowels):\n",
    "          if word[2] in vowels and (word[3] not in vowels and word[3] not in ['w','x','y']):\n",
    "            return True\n",
    "  return False"
   ]
  },
  {
   "cell_type": "code",
   "execution_count": 24,
   "metadata": {
    "id": "9W4EeZunlLc7"
   },
   "outputs": [],
   "source": [
    "def m_finder(word):\n",
    "  m = 0\n",
    "  if len(word) < 2:\n",
    "    return m\n",
    "  for i in range(1,len(word)):\n",
    "    v = word[i-1]\n",
    "    c = word[i]\n",
    "    if (v in vowels) and (c not in vowels) or (v not in vowels and v != 'y') and (c == 'y'):\n",
    "      m += 1\n",
    "  return m"
   ]
  },
  {
   "cell_type": "code",
   "execution_count": 25,
   "metadata": {
    "id": "E0NBiv-2lVBW"
   },
   "outputs": [],
   "source": [
    "def word_stemmer(word):\n",
    "  #steps\n",
    "\n",
    "  #step 1\n",
    "    #1a\n",
    "  if word[-4:] == 'sses':\n",
    "    word = word[:-4]+'ss'\n",
    "  elif word[-3:] == 'ies':\n",
    "    word = word[:-3]+'i'\n",
    "  elif word[-2:] == 'ss':\n",
    "    pass\n",
    "  elif word[-1:] == 's':\n",
    "    word = word[:-1]\n",
    "    #1b\n",
    "  is_b1 = False\n",
    "  if word[-3:] == 'eed' and m_finder(word[:-3]) > 0:\n",
    "    word = word[:-3]+'ee'\n",
    "    is_b1 = True\n",
    "  elif vowel_finder(word[:-2]) and word[-2:] == 'ed':\n",
    "    word = word[:-2]\n",
    "    is_b1 = True\n",
    "  elif vowel_finder(word[:-3]) and word[-3:] == 'ing':\n",
    "    word = word[:-3]\n",
    "    is_b1 = True\n",
    "      #cleanup (only if 1b is applied)\n",
    "  if is_b1 == True:\n",
    "    if word[-2:] == 'at':\n",
    "      word = word[:-2]+'ate'\n",
    "    elif word[-2:] == 'bl':\n",
    "      word = word[:-2]+'ble'\n",
    "    elif double_consonant(word[-2:]) and word[-1] not in ['l','s','z']:\n",
    "      word = word[:-1]\n",
    "    elif len(word) > 3 and in_cvc_format(word[-4:]) and m_finder(word)==1:\n",
    "      word = word + 'e'\n",
    "    #1c\n",
    "  if vowel_finder(word[:-1]) and word[-1] == 'y':\n",
    "    word = word[:-1]+'i'\n",
    "  \n",
    "  #step 2\n",
    "  if len(word) > 7 and word[-7:] == 'ational' and m_finder(word[:-7]) > 0: #Relational\n",
    "    word = word[:-7]+'ate'\n",
    "  elif len(word) > 7 and word[-7:] == 'ization' and m_finder(word[:-7]) > 0:\n",
    "    word = word[:-7]+'ize'\n",
    "  elif len(word) > 7 and word[-7:] == 'iveness' and m_finder(word[:-7]) > 0:\n",
    "    word = word[:-7]+'ive'\n",
    "  elif len(word) > 7 and word[-7:] == 'fulness' and m_finder(word[:-7]) > 0:\n",
    "    word = word[:-7]+'ful'\n",
    "  elif len(word) > 7 and word[-7:] == 'ousness' and m_finder(word[:-7]) > 0:\n",
    "    word = word[:-7]+'ous'\n",
    "  elif len(word) > 6 and word[-6:] == 'biliti' and m_finder(word[:-6]) > 0:\n",
    "    word = word[:-6]+'ble'\n",
    "  elif len(word) > 6 and word[-6:] == 'tional' and m_finder(word[:-6]) > 0:\n",
    "    word = word[:-6]+'tion'\n",
    "  elif len(word) > 5 and word[-5:] == 'entli' and m_finder(word[:-5]) > 0:\n",
    "    word = word[:-5]+'ent'\n",
    "  elif len(word) > 5 and word[-5:] == 'ousli' and m_finder(word[:-5]) > 0:\n",
    "    word = word[:-5]+'ous'\n",
    "  elif len(word) > 5 and word[-5:] == 'ation' and m_finder(word[:-5]) > 0:\n",
    "    word = word[:-5]+'ate'\n",
    "  elif len(word) > 5 and word[-5:] == 'alism' and m_finder(word[:-5]) > 0:\n",
    "    word = word[:-5]+'al'\n",
    "  elif len(word) > 5 and word[-5:] == 'aliti' and m_finder(word[:-5]) > 0:\n",
    "    word = word[:-5]+'el'\n",
    "  elif len(word) > 5 and word[-5:] == 'iviti' and m_finder(word[:-5]) > 0:\n",
    "    word = word[:-5]+'ive'\n",
    "  elif len(word) > 4 and word[-4:] == 'enci' and m_finder(word[:-4]) > 0:\n",
    "    word = word[:-4]+'ence'\n",
    "  elif len(word) > 4 and word[-4:] == 'anvi' and m_finder(word[:-4]) > 0:\n",
    "    word = word[:-4]+'ance'\n",
    "  elif len(word) > 4 and word[-4:] == 'izer' and m_finder(word[:-4]) > 0:\n",
    "    word = word[:-4]+'ize'\n",
    "  elif len(word) > 4 and word[-4:] == 'ator' and m_finder(word[:-4]) > 0:\n",
    "    word = word[:-4]+'ate'\n",
    "  elif len(word) > 4 and word[-4:] == 'abli' and m_finder(word[:-4]) > 0:\n",
    "    word = word[:-4]+'able'\n",
    "  elif len(word) > 4 and word[-4:] == 'alli' and m_finder(word[:-4]) > 0:\n",
    "    word = word[:-4]+'al'\n",
    "  elif len(word) > 3 and word[-3:] == 'eli' and m_finder(word[:-3]) > 0:\n",
    "    word = word[:-4]+'e'\n",
    "\n",
    "  #step 3\n",
    "  if len(word) > 5 and word[-5:] == 'icate' and m_finder(word[:-5]) > 0 :\n",
    "    word = word[:-5]+'ic'\n",
    "  elif len(word) > 5 and word[-5:] == 'ative' and m_finder(word[:-5]) > 0:\n",
    "    word = word[:-5]\n",
    "  elif len(word) > 5 and word[-5:] == 'alize' and m_finder(word[:-5]) > 0:\n",
    "    word = word[:-5]+'al'\n",
    "  elif len(word) > 5 and word[-5:] == 'iciti' and m_finder(word[:-5]) > 0:\n",
    "    word = word[:-5]+'ic'\n",
    "  elif len(word) > 4 and word[-4:] == 'ical' and m_finder(word[:-4]) > 0:\n",
    "    word = word[:-4]+'ic'\n",
    "  elif len(word) > 4 and word[-4:] == 'ness' and m_finder(word[:-4]) > 0:\n",
    "    word = word[:-4]\n",
    "  elif len(word) > 3 and word[-3:] == 'ful' and m_finder(word[:-3]) > 0:\n",
    "      word = word[:-3]\n",
    "  \n",
    "  #step 4\n",
    "  if len(word) > 5 and word[-5:] == 'ement'  and m_finder(word[:-5]) > 1:\n",
    "    word = word[:-5]\n",
    "  elif len(word) > 4 and word[-4:] == 'ance' and m_finder(word[:-4]) > 1:\n",
    "    word = word[:-4]\n",
    "  elif len(word) > 4 and word[-4:] == 'ence' and m_finder(word[:-4]) > 1:\n",
    "    word = word[:-4]\n",
    "  elif len(word) > 4 and word[-4:] == 'able' and m_finder(word[:-4]) > 1:\n",
    "    word = word[:-4]\n",
    "  elif len(word) > 4 and word[-4:] == 'ible' and m_finder(word[:-4]) > 1:\n",
    "    word = word[:-4]\n",
    "  elif len(word) > 4 and word[-4:] == 'ment' and m_finder(word[:-4]) > 1:\n",
    "    word = word[:-4]\n",
    "  elif len(word) > 4 and (word[-4:] == 'sion' or word[-4:] == 'tion') and m_finder(word[:-4]) > 1:\n",
    "    word = word[:-4]\n",
    "  elif len(word) > 3 and word[-3:] == 'ent' and m_finder(word[:-3]) > 1:\n",
    "    word = word[:-3]\n",
    "  elif len(word) > 3 and word[-3:] == 'ive' and m_finder(word[:-3]) > 1:\n",
    "    word = word[:-3]\n",
    "  elif len(word) > 3 and word[-3:] == 'ant' and m_finder(word[:-3]) > 1:\n",
    "    word = word[:-3]\n",
    "  elif len(word) > 3 and word[-3:] == 'ism' and m_finder(word[:-3]) > 1:\n",
    "    word = word[:-3]\n",
    "  elif len(word) > 3 and word[-3:] == 'ate' and m_finder(word[:-3]) > 1:\n",
    "    word = word[:-3]\n",
    "  elif len(word) > 3 and word[-3:] == 'iti' and m_finder(word[:-3]) > 1:\n",
    "    word = word[:-3]\n",
    "  elif len(word) > 3 and word[-3:] == 'ous' and m_finder(word[:-3]) > 1:\n",
    "    word = word[:-3]\n",
    "  elif len(word) > 3 and word[-3:] == 'ize' and m_finder(word[:-3]) > 1:\n",
    "    word = word[:-3]\n",
    "  elif len(word) > 2 and word[-2:] == 'al' and m_finder(word[:-2]) > 1:\n",
    "    word = word[:-2]\n",
    "  elif len(word) > 2 and word[-2:] == 'er' and m_finder(word[:-2]) > 1:\n",
    "    word = word[:-2]\n",
    "  elif len(word) > 2 and word[-2:] == 'ic' and m_finder(word[:-2]) > 1:\n",
    "    word = word[:-2]\n",
    "  elif len(word) > 2 and word[-2:] == 'ou' and m_finder(word[:-2]) > 1:\n",
    "    word = word[:-2]\n",
    "\n",
    "  \n",
    "  #step 5\n",
    "    #5a\n",
    "  if word[-1] == 'e' and m_finder(word[:-1]) > 1:\n",
    "    word = word[:-1]\n",
    "  elif len(word) > 4 and not (in_cvc_format(word[-4:])) and word[-1:]=='e' and m_finder(word[:-1])==1:\n",
    "    word = word[:-1]\n",
    "   #5b\n",
    "  if len(word) > 2 and double_consonant(word[-2:]) and word[-1] == 'l' and m_finder(word) > 1:\n",
    "    word = word[:-1]\n",
    "\n",
    "  return word\n",
    "  \n"
   ]
  },
  {
   "cell_type": "code",
   "execution_count": 26,
   "metadata": {
    "colab": {
     "base_uri": "https://localhost:8080/"
    },
    "id": "Q_kZd2JXlerA",
    "outputId": "bd7bf123-e6e0-4205-dc6d-1a88d813bd21"
   },
   "outputs": [],
   "source": [
    "import nltk\n",
    "# nltk.download('stopwords')\n",
    "from nltk.corpus import stopwords"
   ]
  },
  {
   "cell_type": "code",
   "execution_count": 27,
   "metadata": {},
   "outputs": [],
   "source": [
    "st = ['a', 'aadi', 'aaj', 'aap', 'aapne', 'aata', 'aati', 'aaya', 'aaye', 'ab', 'abbe', 'abbey', 'abe', 'abhi', 'able', 'about', 'above', 'accha', 'according', 'accordingly', 'acha', 'achcha', 'across', 'actually', 'after', 'afterwards', 'again', 'against', 'agar', 'ain', 'aint', \"ain't\", 'aisa', 'aise', 'aisi', 'alag', 'all', 'allow', 'allows', 'almost', 'alone', 'along', 'already', 'also', 'although', 'always', 'am', 'among', 'amongst', 'an', 'and', 'andar', 'another', 'any', 'anybody', 'anyhow', 'anyone', 'anything', 'anyway', 'anyways', 'anywhere', 'ap', 'apan', 'apart', 'apna', 'apnaa', 'apne', 'apni', 'appear', 'are', 'aren', 'arent', \"aren't\", 'around', 'arre', 'as', 'aside', 'ask', 'asking', 'at', 'aur', 'avum', 'aya', 'aye', 'baad', 'baar', 'bad', 'bahut', 'bana', 'banae', 'banai', 'banao', 'banaya', 'banaye', 'banayi', 'banda', 'bande', 'bandi', 'bane', 'bani', 'bas', 'bata', 'batao', 'bc', 'be', 'became', 'because', 'become', 'becomes', 'becoming', 'been', 'before', 'beforehand', 'behind', 'being', 'below', 'beside', 'besides', 'best', 'better', 'between', 'beyond', 'bhai', 'bheetar', 'bhi', 'bhitar', 'bht', 'bilkul', 'bohot', 'bol', 'bola', 'bole', 'boli', 'bolo', 'bolta', 'bolte', 'bolti', 'both', 'brief', 'bro', 'btw', 'but', 'by', 'came', 'can', 'cannot', 'cant', \"can't\", 'cause', 'causes', 'certain', 'certainly', 'chahiye', 'chaiye', 'chal', 'chalega', 'chhaiye', 'clearly', \"c'mon\", 'com', 'come', 'comes', 'could', 'couldn', 'couldnt', \"couldn't\", 'd', 'de', 'dede', 'dega', 'degi', 'dekh', 'dekha', 'dekhe', 'dekhi', 'dekho', 'denge', 'dhang', 'di', 'did', 'didn', 'didnt', \"didn't\", 'dijiye', 'diya', 'diyaa', 'diye', 'diyo', 'do', 'does', 'doesn', 'doesnt', \"doesn't\", 'doing', 'done', 'dono', 'dont', \"don't\", 'doosra', 'doosre', 'down', 'downwards', 'dude', 'dunga', 'dungi', 'during', 'dusra', 'dusre', 'dusri', 'dvaara', 'dvara', 'dwaara', 'dwara', 'each', 'edu', 'eg', 'eight', 'either', 'ek', 'else', 'elsewhere', 'enough', 'etc', 'even', 'ever', 'every', 'everybody', 'everyone', 'everything', 'everywhere', 'ex', 'exactly', 'example', 'except', 'far', 'few', 'fifth', 'fir', 'first', 'five', 'followed', 'following', 'follows', 'for', 'forth', 'four', 'from', 'further', 'furthermore', 'gaya', 'gaye', 'gayi', 'get', 'gets', 'getting', 'ghar', 'given', 'gives', 'go', 'goes', 'going', 'gone', 'good', 'got', 'gotten', 'greetings', 'haan', 'had', 'hadd', 'hadn', 'hadnt', \"hadn't\", 'hai', 'hain', 'hamara', 'hamare', 'hamari', 'hamne', 'han', 'happens', 'har', 'hardly', 'has', 'hasn', 'hasnt', \"hasn't\", 'have', 'haven', 'havent', \"haven't\", 'having', 'he', 'hello', 'help', 'hence', 'her', 'here', 'hereafter', 'hereby', 'herein', \"here's\", 'hereupon', 'hers', 'herself', \"he's\", 'hi', 'him', 'himself', 'his', 'hither', 'hm', 'hmm', 'ho', 'hoga', 'hoge', 'hogi', 'hona', 'honaa', 'hone', 'honge', 'hongi', 'honi', 'hopefully', 'hota', 'hotaa', 'hote', 'hoti', 'how', 'howbeit', 'however', 'hoyenge', 'hoyengi', 'hu', 'hua', 'hue', 'huh', 'hui', 'hum', 'humein', 'humne', 'hun', 'huye', 'huyi', 'i', \"i'd\", 'idk', 'ie', 'if', \"i'll\", \"i'm\", 'imo', 'in', 'inasmuch', 'inc', 'inhe', 'inhi', 'inho', 'inka', 'inkaa', 'inke', 'inki', 'inn', 'inner', 'inse', 'insofar', 'into', 'inward', 'is', 'ise', 'isi', 'iska', 'iskaa', 'iske', 'iski', 'isme', 'isn', 'isne', 'isnt', \"isn't\", 'iss', 'isse', 'issi', 'isski', 'it', \"it'd\", \"it'll\", 'itna', 'itne', 'itni', 'itno', 'its', \"it's\", 'itself', 'ityaadi', 'ityadi', \"i've\", 'ja', 'jaa', 'jab', 'jabh', 'jaha', 'jahaan', 'jahan', 'jaisa', 'jaise', 'jaisi', 'jata', 'jayega', 'jidhar', 'jin', 'jinhe', 'jinhi', 'jinho', 'jinhone', 'jinka', 'jinke', 'jinki', 'jinn', 'jis', 'jise', 'jiska', 'jiske', 'jiski', 'jisme', 'jiss', 'jisse', 'jitna', 'jitne', 'jitni', 'jo', 'just', 'jyaada', 'jyada', 'k', 'ka', 'kaafi', 'kab', 'kabhi', 'kafi', 'kaha', 'kahaa', 'kahaan', 'kahan', 'kahi', 'kahin', 'kahte', 'kaisa', 'kaise', 'kaisi', 'kal', 'kam', 'kar', 'kara', 'kare', 'karega', 'karegi', 'karen', 'karenge', 'kari', 'karke', 'karna', 'karne', 'karni', 'karo', 'karta', 'karte', 'karti', 'karu', 'karun', 'karunga', 'karungi', 'kaun', 'kaunsa', 'kayi', 'kch', 'ke', 'keep', 'keeps', 'keh', 'kehte', 'kept', 'khud', 'ki', 'kin', 'kine', 'kinhe', 'kinho', 'kinka', 'kinke', 'kinki', 'kinko', 'kinn', 'kino', 'kis', 'kise', 'kisi', 'kiska', 'kiske', 'kiski', 'kisko', 'kisliye', 'kisne', 'kitna', 'kitne', 'kitni', 'kitno', 'kiya', 'kiye', 'know', 'known', 'knows', 'ko', 'koi', 'kon', 'konsa', 'koyi', 'krna', 'krne', 'kuch', 'kuchch', 'kuchh', 'kul', 'kull', 'kya', 'kyaa', 'kyu', 'kyuki', 'kyun', 'kyunki', 'lagta', 'lagte', 'lagti', 'last', 'lately', 'later', 'le', 'least', 'lekar', 'lekin', 'less', 'lest', 'let', \"let's\", 'li', 'like', 'liked', 'likely', 'little', 'liya', 'liye', 'll', 'lo', 'log', 'logon', 'lol', 'look', 'looking', 'looks', 'ltd', 'lunga', 'm', 'maan', 'maana', 'maane', 'maani', 'maano', 'magar', 'mai', 'main', 'maine', 'mainly', 'mana', 'mane', 'mani', 'mano', 'many', 'mat', 'may', 'maybe', 'me', 'mean', 'meanwhile', 'mein', 'mera', 'mere', 'merely', 'meri', 'might', 'mightn', 'mightnt', \"mightn't\", 'mil', 'mjhe', 'more', 'moreover', 'most', 'mostly', 'much', 'mujhe', 'must', 'mustn', 'mustnt', \"mustn't\", 'my', 'myself', 'na', 'naa', 'naah', 'nahi', 'nahin', 'nai', 'name', 'namely', 'nd', 'ne', 'near', 'nearly', 'necessary', 'neeche', 'need', 'needn', 'neednt', \"needn't\", 'needs', 'neither', 'never', 'nevertheless', 'new', 'next', 'nhi', 'nine', 'no', 'nobody', 'non', 'none', 'noone', 'nope', 'nor', 'normally', 'not', 'nothing', 'novel', 'now', 'nowhere', 'o', 'obviously', 'of', 'off', 'often', 'oh', 'ok', 'okay', 'old', 'on', 'once', 'one', 'ones', 'only', 'onto', 'or', 'other', 'others', 'otherwise', 'ought', 'our', 'ours', 'ourselves', 'out', 'outside', 'over', 'overall', 'own', 'par', 'pata', 'pe', 'pehla', 'pehle', 'pehli', 'people', 'per', 'perhaps', 'phla', 'phle', 'phli', 'placed', 'please', 'plus', 'poora', 'poori', 'provides', 'pura', 'puri', 'q', 'que', 'quite', 'raha', 'rahaa', 'rahe', 'rahi', 'rakh', 'rakha', 'rakhe', 'rakhen', 'rakhi', 'rakho', 'rather', 're', 'really', 'reasonably', 'regarding', 'regardless', 'regards', 'rehte', 'rha', 'rhaa', 'rhe', 'rhi', 'ri', 'right', 's', 'sa', 'saara', 'saare', 'saath', 'sab', 'sabhi', 'sabse', 'sahi', 'said', 'sakta', 'saktaa', 'sakte', 'sakti', 'same', 'sang', 'sara', 'sath', 'saw', 'say', 'saying', 'says', 'se', 'second', 'secondly', 'see', 'seeing', 'seem', 'seemed', 'seeming', 'seems', 'seen', 'self', 'selves', 'sensible', 'sent', 'serious', 'seriously', 'seven', 'several', 'shall', 'shan', 'shant', \"shan't\", 'she', \"she's\", 'should', 'shouldn', 'shouldnt', \"shouldn't\", \"should've\", 'si', 'since', 'six', 'so', 'soch', 'some', 'somebody', 'somehow', 'someone', 'something', 'sometime', 'sometimes', 'somewhat', 'somewhere', 'soon', 'still', 'sub', 'such', 'sup', 'sure', 't', 'tab', 'tabh', 'tak', 'take', 'taken', 'tarah', 'teen', 'teeno', 'teesra', 'teesre', 'teesri', 'tell', 'tends', 'tera', 'tere', 'teri', 'th', 'tha', 'than', 'thank', 'thanks', 'thanx', 'that', \"that'll\", 'thats', \"that's\", 'the', 'theek', 'their', 'theirs', 'them', 'themselves', 'then', 'thence', 'there', 'thereafter', 'thereby', 'therefore', 'therein', 'theres', \"there's\", 'thereupon', 'these', 'they', \"they'd\", \"they'll\", \"they're\", \"they've\", 'thi', 'thik', 'thing', 'think', 'thinking', 'third', 'this', 'tho', 'thoda', 'thodi', 'thorough', 'thoroughly', 'those', 'though', 'thought', 'three', 'through', 'throughout', 'thru', 'thus', 'tjhe', 'to', 'together', 'toh', 'too', 'took', 'toward', 'towards', 'tried', 'tries', 'true', 'truly', 'try', 'trying', 'tu', 'tujhe', 'tum', 'tumhara', 'tumhare', 'tumhari', 'tune', 'twice', 'two', 'um', 'umm', 'un', 'under', 'unhe', 'unhi', 'unho', 'unhone', 'unka', 'unkaa', 'unke', 'unki', 'unko', 'unless', 'unlikely', 'unn', 'unse', 'until', 'unto', 'up', 'upar', 'upon', 'us', 'use', 'used', 'useful', 'uses', 'usi', 'using', 'uska', 'uske', 'usne', 'uss', 'usse', 'ussi', 'usually', 'vaala', 'vaale', 'vaali', 'vahaan', 'vahan', 'vahi', 'vahin', 'vaisa', 'vaise', 'vaisi', 'vala', 'vale', 'vali', 'various', 've', 'very', 'via', 'viz', 'vo', 'waala', 'waale', 'waali', 'wagaira', 'wagairah', 'wagerah', 'waha', 'wahaan', 'wahan', 'wahi', 'wahin', 'waisa', 'waise', 'waisi', 'wala', 'wale', 'wali', 'want', 'wants', 'was', 'wasn', 'wasnt', \"wasn't\", 'way', 'we', \"we'd\", 'well', \"we'll\", 'went', 'were', \"we're\", 'weren', 'werent', \"weren't\", \"we've\", 'what', 'whatever', \"what's\", 'when', 'whence', 'whenever', 'where', 'whereafter', 'whereas', 'whereby', 'wherein', \"where's\", 'whereupon', 'wherever', 'whether', 'which', 'while', 'who', 'whoever', 'whole', 'whom', \"who's\", 'whose', 'why', 'will', 'willing', 'with', 'within', 'without', 'wo', 'woh', 'wohi', 'won', 'wont', \"won't\", 'would', 'wouldn', 'wouldnt', \"wouldn't\", 'y', 'ya', 'yadi', 'yah', 'yaha', 'yahaan', 'yahan', 'yahi', 'yahin', 'ye', 'yeah', 'yeh', 'yehi', 'yes', 'yet', 'you', \"you'd\", \"you'll\", 'your', \"you're\", 'yours', 'yourself', 'yourselves', \"you've\", 'yup']\n"
   ]
  },
  {
   "cell_type": "code",
   "execution_count": 28,
   "metadata": {
    "id": "iXoiBRNBQ0K4"
   },
   "outputs": [],
   "source": [
    "\n",
    "\n",
    "Stopwords = stopwords.words('english')\n",
    "Stopwords.append(st)\n",
    "\n",
    "preda = []\n",
    "def Preprocessing(data):\n",
    "  for dt in data.clean_comment:\n",
    "    dt = dt.lower()\n",
    "    dt = list(dt)\n",
    "    for letter in dt:\n",
    "      if (ord(letter) < 97 or ord(letter) > 122) and ord(letter) != 32:\n",
    "        dt[dt.index(letter)] = ''\n",
    "    dt = \"\".join(dt)\n",
    "    dt = dt.split()\n",
    "    \n",
    "    temp = []\n",
    "    for word in dt:\n",
    "      if word not in Stopwords:\n",
    "        word = word_stemmer(word)\n",
    "        temp.append(word)\n",
    "    preda.append(\" \".join(temp))\n",
    "\n",
    "\n",
    "\n",
    "Preprocessing(data)\n",
    "\n",
    "data['PreProcessed Data'] = preda"
   ]
  },
  {
   "cell_type": "code",
   "execution_count": 29,
   "metadata": {
    "colab": {
     "base_uri": "https://localhost:8080/",
     "height": 423
    },
    "id": "j5Ofe6yQqNQb",
    "outputId": "0bf9c52a-aa7f-42a3-940d-b98bd864fea6"
   },
   "outputs": [
    {
     "data": {
      "text/html": [
       "<div>\n",
       "<style scoped>\n",
       "    .dataframe tbody tr th:only-of-type {\n",
       "        vertical-align: middle;\n",
       "    }\n",
       "\n",
       "    .dataframe tbody tr th {\n",
       "        vertical-align: top;\n",
       "    }\n",
       "\n",
       "    .dataframe thead th {\n",
       "        text-align: right;\n",
       "    }\n",
       "</style>\n",
       "<table border=\"1\" class=\"dataframe\">\n",
       "  <thead>\n",
       "    <tr style=\"text-align: right;\">\n",
       "      <th></th>\n",
       "      <th>clean_comment</th>\n",
       "      <th>category</th>\n",
       "      <th>category_str</th>\n",
       "      <th>PreProcessed Data</th>\n",
       "    </tr>\n",
       "  </thead>\n",
       "  <tbody>\n",
       "    <tr>\n",
       "      <th>0</th>\n",
       "      <td>aaa family mormon have never tried explain the...</td>\n",
       "      <td>1</td>\n",
       "      <td>Positive</td>\n",
       "      <td>aaa famili mormon never tri explain still star...</td>\n",
       "    </tr>\n",
       "    <tr>\n",
       "      <th>1</th>\n",
       "      <td>buddhism has very much lot compatible with chr...</td>\n",
       "      <td>1</td>\n",
       "      <td>Positive</td>\n",
       "      <td>buddhism much lot compat christian especi cons...</td>\n",
       "    </tr>\n",
       "    <tr>\n",
       "      <th>2</th>\n",
       "      <td>seriously don say thing first all they won get...</td>\n",
       "      <td>2</td>\n",
       "      <td>Negative</td>\n",
       "      <td>serious sai thing first get complex explain no...</td>\n",
       "    </tr>\n",
       "    <tr>\n",
       "      <th>3</th>\n",
       "      <td>what you have learned yours and only yours wha...</td>\n",
       "      <td>0</td>\n",
       "      <td>Neutral</td>\n",
       "      <td>learn want teach differ focu goal wrap paper b...</td>\n",
       "    </tr>\n",
       "    <tr>\n",
       "      <th>4</th>\n",
       "      <td>for your own benefit you may want read living ...</td>\n",
       "      <td>1</td>\n",
       "      <td>Positive</td>\n",
       "      <td>benefit mai want read liv buddha liv christ th...</td>\n",
       "    </tr>\n",
       "  </tbody>\n",
       "</table>\n",
       "</div>"
      ],
      "text/plain": [
       "                                       clean_comment  category category_str  \\\n",
       "0  aaa family mormon have never tried explain the...         1     Positive   \n",
       "1  buddhism has very much lot compatible with chr...         1     Positive   \n",
       "2  seriously don say thing first all they won get...         2     Negative   \n",
       "3  what you have learned yours and only yours wha...         0      Neutral   \n",
       "4  for your own benefit you may want read living ...         1     Positive   \n",
       "\n",
       "                                   PreProcessed Data  \n",
       "0  aaa famili mormon never tri explain still star...  \n",
       "1  buddhism much lot compat christian especi cons...  \n",
       "2  serious sai thing first get complex explain no...  \n",
       "3  learn want teach differ focu goal wrap paper b...  \n",
       "4  benefit mai want read liv buddha liv christ th...  "
      ]
     },
     "execution_count": 29,
     "metadata": {},
     "output_type": "execute_result"
    }
   ],
   "source": [
    "data.head()"
   ]
  },
  {
   "cell_type": "code",
   "execution_count": 30,
   "metadata": {
    "id": "2wbxJRiq0Lw_"
   },
   "outputs": [],
   "source": [
    "from sklearn.feature_extraction.text import TfidfVectorizer\n",
    "\n",
    "corpus = list(data['PreProcessed Data'])\n",
    "\n",
    "Tfidf_Vectorizer = TfidfVectorizer(analyzer= 'word')\n",
    "corpus = Tfidf_Vectorizer.fit_transform(corpus)\n",
    "\n",
    "# X = corpus.toarray()\n",
    "# pd.DataFrame(corpus.toarray(), columns = Tfidf_Vectorizer.get_feature_names()).head(5)"
   ]
  },
  {
   "cell_type": "code",
   "execution_count": 31,
   "metadata": {
    "id": "up1GInfn3dwY"
   },
   "outputs": [],
   "source": [
    "x=corpus.toarray()\n"
   ]
  },
  {
   "cell_type": "code",
   "execution_count": 32,
   "metadata": {
    "colab": {
     "base_uri": "https://localhost:8080/"
    },
    "id": "bVqHCszd_nma",
    "outputId": "6cf15820-5a67-4d9e-b4aa-9d0c714874e7"
   },
   "outputs": [
    {
     "data": {
      "text/plain": [
       "(24000, 4)"
      ]
     },
     "execution_count": 32,
     "metadata": {},
     "output_type": "execute_result"
    }
   ],
   "source": [
    "data.shape"
   ]
  },
  {
   "cell_type": "code",
   "execution_count": 35,
   "metadata": {
    "colab": {
     "base_uri": "https://localhost:8080/"
    },
    "id": "34v_3_mW79QR",
    "outputId": "2eda87a2-4b9c-4262-9bc3-95d2ea1b8279"
   },
   "outputs": [
    {
     "data": {
      "text/plain": [
       "array(['aaa', 'aaaa', 'aaaaand', ..., 'zven', 'zwsemhv', 'zzhqhtlhm'],\n",
       "      dtype=object)"
      ]
     },
     "execution_count": 35,
     "metadata": {},
     "output_type": "execute_result"
    }
   ],
   "source": [
    "labels = Tfidf_Vectorizer.get_feature_names_out()\n",
    "labels"
   ]
  },
  {
   "cell_type": "code",
   "execution_count": 59,
   "metadata": {},
   "outputs": [
    {
     "data": {
      "text/plain": [
       "30242"
      ]
     },
     "execution_count": 59,
     "metadata": {},
     "output_type": "execute_result"
    }
   ],
   "source": [
    "len(labels)"
   ]
  },
  {
   "cell_type": "code",
   "execution_count": 36,
   "metadata": {
    "id": "p9JdTKmy8QOi"
   },
   "outputs": [],
   "source": [
    "cs = pd.DataFrame(x,columns=labels)"
   ]
  },
  {
   "cell_type": "code",
   "execution_count": 37,
   "metadata": {
    "colab": {
     "base_uri": "https://localhost:8080/",
     "height": 235
    },
    "id": "c6tpQV6rKqU8",
    "outputId": "8fb6a337-85da-4fab-e3de-b9f13090cbf1"
   },
   "outputs": [
    {
     "data": {
      "text/html": [
       "<div>\n",
       "<style scoped>\n",
       "    .dataframe tbody tr th:only-of-type {\n",
       "        vertical-align: middle;\n",
       "    }\n",
       "\n",
       "    .dataframe tbody tr th {\n",
       "        vertical-align: top;\n",
       "    }\n",
       "\n",
       "    .dataframe thead th {\n",
       "        text-align: right;\n",
       "    }\n",
       "</style>\n",
       "<table border=\"1\" class=\"dataframe\">\n",
       "  <thead>\n",
       "    <tr style=\"text-align: right;\">\n",
       "      <th></th>\n",
       "      <th>aaa</th>\n",
       "      <th>aaaa</th>\n",
       "      <th>aaaaand</th>\n",
       "      <th>aaaah</th>\n",
       "      <th>aaaand</th>\n",
       "      <th>aaadhar</th>\n",
       "      <th>aaah</th>\n",
       "      <th>aaam</th>\n",
       "      <th>aaannnddd</th>\n",
       "      <th>aaaya</th>\n",
       "      <th>...</th>\n",
       "      <th>zuck</th>\n",
       "      <th>zuckeberg</th>\n",
       "      <th>zuckerberg</th>\n",
       "      <th>zuckerburg</th>\n",
       "      <th>zukerberg</th>\n",
       "      <th>zuma</th>\n",
       "      <th>zuni</th>\n",
       "      <th>zven</th>\n",
       "      <th>zwsemhv</th>\n",
       "      <th>zzhqhtlhm</th>\n",
       "    </tr>\n",
       "  </thead>\n",
       "  <tbody>\n",
       "    <tr>\n",
       "      <th>0</th>\n",
       "      <td>0.270413</td>\n",
       "      <td>0.0</td>\n",
       "      <td>0.0</td>\n",
       "      <td>0.0</td>\n",
       "      <td>0.0</td>\n",
       "      <td>0.0</td>\n",
       "      <td>0.0</td>\n",
       "      <td>0.0</td>\n",
       "      <td>0.0</td>\n",
       "      <td>0.0</td>\n",
       "      <td>...</td>\n",
       "      <td>0.0</td>\n",
       "      <td>0.0</td>\n",
       "      <td>0.0</td>\n",
       "      <td>0.0</td>\n",
       "      <td>0.0</td>\n",
       "      <td>0.0</td>\n",
       "      <td>0.0</td>\n",
       "      <td>0.0</td>\n",
       "      <td>0.0</td>\n",
       "      <td>0.0</td>\n",
       "    </tr>\n",
       "    <tr>\n",
       "      <th>1</th>\n",
       "      <td>0.000000</td>\n",
       "      <td>0.0</td>\n",
       "      <td>0.0</td>\n",
       "      <td>0.0</td>\n",
       "      <td>0.0</td>\n",
       "      <td>0.0</td>\n",
       "      <td>0.0</td>\n",
       "      <td>0.0</td>\n",
       "      <td>0.0</td>\n",
       "      <td>0.0</td>\n",
       "      <td>...</td>\n",
       "      <td>0.0</td>\n",
       "      <td>0.0</td>\n",
       "      <td>0.0</td>\n",
       "      <td>0.0</td>\n",
       "      <td>0.0</td>\n",
       "      <td>0.0</td>\n",
       "      <td>0.0</td>\n",
       "      <td>0.0</td>\n",
       "      <td>0.0</td>\n",
       "      <td>0.0</td>\n",
       "    </tr>\n",
       "    <tr>\n",
       "      <th>2</th>\n",
       "      <td>0.000000</td>\n",
       "      <td>0.0</td>\n",
       "      <td>0.0</td>\n",
       "      <td>0.0</td>\n",
       "      <td>0.0</td>\n",
       "      <td>0.0</td>\n",
       "      <td>0.0</td>\n",
       "      <td>0.0</td>\n",
       "      <td>0.0</td>\n",
       "      <td>0.0</td>\n",
       "      <td>...</td>\n",
       "      <td>0.0</td>\n",
       "      <td>0.0</td>\n",
       "      <td>0.0</td>\n",
       "      <td>0.0</td>\n",
       "      <td>0.0</td>\n",
       "      <td>0.0</td>\n",
       "      <td>0.0</td>\n",
       "      <td>0.0</td>\n",
       "      <td>0.0</td>\n",
       "      <td>0.0</td>\n",
       "    </tr>\n",
       "    <tr>\n",
       "      <th>3</th>\n",
       "      <td>0.000000</td>\n",
       "      <td>0.0</td>\n",
       "      <td>0.0</td>\n",
       "      <td>0.0</td>\n",
       "      <td>0.0</td>\n",
       "      <td>0.0</td>\n",
       "      <td>0.0</td>\n",
       "      <td>0.0</td>\n",
       "      <td>0.0</td>\n",
       "      <td>0.0</td>\n",
       "      <td>...</td>\n",
       "      <td>0.0</td>\n",
       "      <td>0.0</td>\n",
       "      <td>0.0</td>\n",
       "      <td>0.0</td>\n",
       "      <td>0.0</td>\n",
       "      <td>0.0</td>\n",
       "      <td>0.0</td>\n",
       "      <td>0.0</td>\n",
       "      <td>0.0</td>\n",
       "      <td>0.0</td>\n",
       "    </tr>\n",
       "    <tr>\n",
       "      <th>4</th>\n",
       "      <td>0.000000</td>\n",
       "      <td>0.0</td>\n",
       "      <td>0.0</td>\n",
       "      <td>0.0</td>\n",
       "      <td>0.0</td>\n",
       "      <td>0.0</td>\n",
       "      <td>0.0</td>\n",
       "      <td>0.0</td>\n",
       "      <td>0.0</td>\n",
       "      <td>0.0</td>\n",
       "      <td>...</td>\n",
       "      <td>0.0</td>\n",
       "      <td>0.0</td>\n",
       "      <td>0.0</td>\n",
       "      <td>0.0</td>\n",
       "      <td>0.0</td>\n",
       "      <td>0.0</td>\n",
       "      <td>0.0</td>\n",
       "      <td>0.0</td>\n",
       "      <td>0.0</td>\n",
       "      <td>0.0</td>\n",
       "    </tr>\n",
       "  </tbody>\n",
       "</table>\n",
       "<p>5 rows × 30242 columns</p>\n",
       "</div>"
      ],
      "text/plain": [
       "        aaa  aaaa  aaaaand  aaaah  aaaand  aaadhar  aaah  aaam  aaannnddd  \\\n",
       "0  0.270413   0.0      0.0    0.0     0.0      0.0   0.0   0.0        0.0   \n",
       "1  0.000000   0.0      0.0    0.0     0.0      0.0   0.0   0.0        0.0   \n",
       "2  0.000000   0.0      0.0    0.0     0.0      0.0   0.0   0.0        0.0   \n",
       "3  0.000000   0.0      0.0    0.0     0.0      0.0   0.0   0.0        0.0   \n",
       "4  0.000000   0.0      0.0    0.0     0.0      0.0   0.0   0.0        0.0   \n",
       "\n",
       "   aaaya  ...  zuck  zuckeberg  zuckerberg  zuckerburg  zukerberg  zuma  zuni  \\\n",
       "0    0.0  ...   0.0        0.0         0.0         0.0        0.0   0.0   0.0   \n",
       "1    0.0  ...   0.0        0.0         0.0         0.0        0.0   0.0   0.0   \n",
       "2    0.0  ...   0.0        0.0         0.0         0.0        0.0   0.0   0.0   \n",
       "3    0.0  ...   0.0        0.0         0.0         0.0        0.0   0.0   0.0   \n",
       "4    0.0  ...   0.0        0.0         0.0         0.0        0.0   0.0   0.0   \n",
       "\n",
       "   zven  zwsemhv  zzhqhtlhm  \n",
       "0   0.0      0.0        0.0  \n",
       "1   0.0      0.0        0.0  \n",
       "2   0.0      0.0        0.0  \n",
       "3   0.0      0.0        0.0  \n",
       "4   0.0      0.0        0.0  \n",
       "\n",
       "[5 rows x 30242 columns]"
      ]
     },
     "execution_count": 37,
     "metadata": {},
     "output_type": "execute_result"
    }
   ],
   "source": [
    "cs.head()"
   ]
  },
  {
   "cell_type": "code",
   "execution_count": 40,
   "metadata": {},
   "outputs": [],
   "source": [
    "cs.to_csv('Vector_data.csv')"
   ]
  },
  {
   "cell_type": "code",
   "execution_count": 44,
   "metadata": {
    "id": "vdL3BvcMKvuK"
   },
   "outputs": [],
   "source": [
    "from sklearn.model_selection import train_test_split\n",
    "\n",
    "X_train,X_test,Y_train,Y_test = train_test_split(x,data.category, test_size = 0.2)"
   ]
  },
  {
   "cell_type": "code",
   "execution_count": 45,
   "metadata": {},
   "outputs": [
    {
     "name": "stdout",
     "output_type": "stream",
     "text": [
      "(19200, 30242)\n",
      "(4800, 30242)\n",
      "(19200,)\n",
      "(4800,)\n"
     ]
    }
   ],
   "source": [
    "print(X_train.shape)\n",
    "print(X_test.shape)\n",
    "print(Y_train.shape)\n",
    "print(Y_test.shape)\n",
    "# print(X_train)"
   ]
  },
  {
   "cell_type": "code",
   "execution_count": 46,
   "metadata": {},
   "outputs": [
    {
     "data": {
      "text/plain": [
       "8764     1\n",
       "12534    2\n",
       "3854     1\n",
       "17987    2\n",
       "3506     2\n",
       "Name: category, dtype: int64"
      ]
     },
     "execution_count": 46,
     "metadata": {},
     "output_type": "execute_result"
    }
   ],
   "source": [
    "Y_train.head()"
   ]
  },
  {
   "cell_type": "code",
   "execution_count": 47,
   "metadata": {},
   "outputs": [],
   "source": [
    "x_train = np.asarray(X_train)\n",
    "y_train = np.asarray(Y_train)\n",
    "x_test = np.asarray(X_test)\n",
    "y_test = np.asarray(Y_test)"
   ]
  },
  {
   "cell_type": "code",
   "execution_count": 48,
   "metadata": {},
   "outputs": [
    {
     "name": "stdout",
     "output_type": "stream",
     "text": [
      "(19200, 30242)\n",
      "(4800, 30242)\n",
      "(19200,)\n",
      "(4800,)\n"
     ]
    }
   ],
   "source": [
    "print(x_train.shape)\n",
    "print(x_test.shape)\n",
    "print(y_train.shape)\n",
    "print(y_test.shape)\n",
    "# print(x_train)"
   ]
  },
  {
   "cell_type": "code",
   "execution_count": 40,
   "metadata": {},
   "outputs": [],
   "source": [
    "from sklearn.svm import SVC\n",
    "model = SVC(C=5,kernel='linear')"
   ]
  },
  {
   "cell_type": "code",
   "execution_count": 41,
   "metadata": {},
   "outputs": [
    {
     "data": {
      "text/plain": [
       "SVC(C=5, kernel='linear')"
      ]
     },
     "execution_count": 41,
     "metadata": {},
     "output_type": "execute_result"
    }
   ],
   "source": [
    "model.fit(X_train, Y_train)"
   ]
  },
  {
   "cell_type": "code",
   "execution_count": 42,
   "metadata": {},
   "outputs": [],
   "source": [
    "y_pre = model.predict(X_test)"
   ]
  },
  {
   "cell_type": "code",
   "execution_count": 43,
   "metadata": {},
   "outputs": [
    {
     "name": "stdout",
     "output_type": "stream",
     "text": [
      "0.7804761904761904\n"
     ]
    }
   ],
   "source": [
    "\n",
    "print(accuracy_score(y_pre, Y_test))"
   ]
  },
  {
   "cell_type": "code",
   "execution_count": 44,
   "metadata": {},
   "outputs": [
    {
     "data": {
      "text/plain": [
       "array([[1302,   79,  102],\n",
       "       [ 162,  981,  194],\n",
       "       [ 192,  193,  995]], dtype=int64)"
      ]
     },
     "execution_count": 44,
     "metadata": {},
     "output_type": "execute_result"
    }
   ],
   "source": [
    "\n",
    "\n",
    "cfm = confusion_matrix(Y_test, y_pre)\n",
    "cfm"
   ]
  },
  {
   "cell_type": "code",
   "execution_count": 62,
   "metadata": {},
   "outputs": [],
   "source": [
    "from sklearn.neighbors import KNeighborsClassifier\n",
    "\n",
    "y_kpre = []\n",
    "\n",
    "for i in range(3,15):\n",
    "    knn = KNeighborsClassifier(n_neighbors = i)\n",
    "    knn.fit(X_train,Y_train)\n",
    "    y_kpre.append(knn.predict(X_test))\n",
    "    "
   ]
  },
  {
   "cell_type": "code",
   "execution_count": 63,
   "metadata": {},
   "outputs": [],
   "source": [
    "acc = []\n",
    "for i in y_kpre:\n",
    "    acc.append(accuracy_score(i,Y_test))"
   ]
  },
  {
   "cell_type": "code",
   "execution_count": 64,
   "metadata": {},
   "outputs": [
    {
     "data": {
      "text/plain": [
       "Text(0, 0.5, 'accuracy')"
      ]
     },
     "execution_count": 64,
     "metadata": {},
     "output_type": "execute_result"
    },
    {
     "data": {
      "image/png": "[encoded data removed]",
      "text/plain": [
       "<Figure size 432x288 with 1 Axes>"
      ]
     },
     "metadata": {
      "needs_background": "light"
     },
     "output_type": "display_data"
    }
   ],
   "source": [
    "\n",
    "\n",
    "\n",
    "x = np.arange(3,15)\n",
    "\n",
    "# print(x)\n",
    "\n",
    "plt.plot(x,acc)\n",
    "plt.xlabel('k value')\n",
    "plt.ylabel('accuracy')"
   ]
  },
  {
   "cell_type": "code",
   "execution_count": 49,
   "metadata": {},
   "outputs": [],
   "source": [
    "from sklearn.linear_model import LogisticRegression\n",
    "\n",
    "logi_reg =LogisticRegression(penalty='l2', solver='saga', C=5, multi_class='multinomial')"
   ]
  },
  {
   "cell_type": "code",
   "execution_count": 50,
   "metadata": {},
   "outputs": [
    {
     "data": {
      "text/plain": [
       "LogisticRegression(C=5, multi_class='multinomial', solver='saga')"
      ]
     },
     "execution_count": 50,
     "metadata": {},
     "output_type": "execute_result"
    }
   ],
   "source": [
    "logi_reg.fit(X_train, Y_train)"
   ]
  },
  {
   "cell_type": "code",
   "execution_count": 51,
   "metadata": {},
   "outputs": [],
   "source": [
    "y_lpre = logi_reg.predict(X_test)"
   ]
  },
  {
   "cell_type": "code",
   "execution_count": 52,
   "metadata": {},
   "outputs": [
    {
     "name": "stdout",
     "output_type": "stream",
     "text": [
      "0.7947619047619048\n"
     ]
    },
    {
     "data": {
      "text/plain": [
       "array([[1331,   73,   79],\n",
       "       [ 165,  989,  183],\n",
       "       [ 197,  165, 1018]], dtype=int64)"
      ]
     },
     "execution_count": 52,
     "metadata": {},
     "output_type": "execute_result"
    }
   ],
   "source": [
    "print(accuracy_score(y_lpre, Y_test))\n",
    "\n",
    "cfml = confusion_matrix(Y_test, y_lpre)\n",
    "\n",
    "cfml"
   ]
  },
  {
   "cell_type": "code",
   "execution_count": 41,
   "metadata": {},
   "outputs": [],
   "source": [
    "import tensorflow.keras\n"
   ]
  },
  {
   "cell_type": "code",
   "execution_count": 49,
   "metadata": {},
   "outputs": [],
   "source": [
    "from keras import models,layers\n",
    "from keras.models import Sequential\n",
    "from keras.layers import Dense,Dropout\n",
    "\n",
    "ann = models.Sequential([\n",
    "    layers.Dense(16,input_shape=(30242,), activation ='tanh'),\n",
    "    layers.Dropout(0.7),\n",
    "    layers.Dense(32, activation='relu'),\n",
    "    layers.Dropout(0.5),\n",
    "    layers.Dense(3,activation='softmax')\n",
    "])"
   ]
  },
  {
   "cell_type": "code",
   "execution_count": 50,
   "metadata": {
    "scrolled": false
   },
   "outputs": [
    {
     "name": "stdout",
     "output_type": "stream",
     "text": [
      "Model: \"sequential_1\"\n",
      "_________________________________________________________________\n",
      " Layer (type)                Output Shape              Param #   \n",
      "=================================================================\n",
      " dense_3 (Dense)             (None, 16)                483888    \n",
      "                                                                 \n",
      " dropout_2 (Dropout)         (None, 16)                0         \n",
      "                                                                 \n",
      " dense_4 (Dense)             (None, 32)                544       \n",
      "                                                                 \n",
      " dropout_3 (Dropout)         (None, 32)                0         \n",
      "                                                                 \n",
      " dense_5 (Dense)             (None, 3)                 99        \n",
      "                                                                 \n",
      "=================================================================\n",
      "Total params: 484,531\n",
      "Trainable params: 484,531\n",
      "Non-trainable params: 0\n",
      "_________________________________________________________________\n"
     ]
    }
   ],
   "source": [
    "ann.summary()"
   ]
  },
  {
   "cell_type": "code",
   "execution_count": 51,
   "metadata": {},
   "outputs": [],
   "source": [
    "ann.compile(\n",
    "    optimizer = 'Adam',\n",
    "    loss = 'sparse_categorical_crossentropy',\n",
    "    metrics=['accuracy']\n",
    ")"
   ]
  },
  {
   "cell_type": "code",
   "execution_count": 52,
   "metadata": {},
   "outputs": [
    {
     "name": "stdout",
     "output_type": "stream",
     "text": [
      "Epoch 1/20\n",
      "154/154 [==============================] - 2s 9ms/step - loss: 1.0558 - accuracy: 0.4678 - val_loss: 0.9376 - val_accuracy: 0.6432\n",
      "Epoch 2/20\n",
      "154/154 [==============================] - 1s 7ms/step - loss: 0.8356 - accuracy: 0.6335 - val_loss: 0.7103 - val_accuracy: 0.7401\n",
      "Epoch 3/20\n",
      "154/154 [==============================] - 1s 7ms/step - loss: 0.6467 - accuracy: 0.7340 - val_loss: 0.5944 - val_accuracy: 0.7737\n",
      "Epoch 4/20\n",
      "154/154 [==============================] - 1s 7ms/step - loss: 0.5328 - accuracy: 0.7897 - val_loss: 0.5573 - val_accuracy: 0.7792\n",
      "Epoch 5/20\n",
      "154/154 [==============================] - 1s 7ms/step - loss: 0.4584 - accuracy: 0.8273 - val_loss: 0.5419 - val_accuracy: 0.7872\n",
      "Epoch 6/20\n",
      "154/154 [==============================] - 1s 7ms/step - loss: 0.3986 - accuracy: 0.8490 - val_loss: 0.5495 - val_accuracy: 0.7854\n",
      "Epoch 7/20\n",
      "154/154 [==============================] - 1s 7ms/step - loss: 0.3511 - accuracy: 0.8741 - val_loss: 0.5684 - val_accuracy: 0.7810\n",
      "Epoch 8/20\n",
      "154/154 [==============================] - 1s 7ms/step - loss: 0.3323 - accuracy: 0.8806 - val_loss: 0.5838 - val_accuracy: 0.7799\n",
      "Epoch 9/20\n",
      "154/154 [==============================] - 1s 7ms/step - loss: 0.3137 - accuracy: 0.8898 - val_loss: 0.6003 - val_accuracy: 0.7807\n",
      "Epoch 10/20\n",
      "154/154 [==============================] - 1s 7ms/step - loss: 0.2879 - accuracy: 0.8973 - val_loss: 0.6286 - val_accuracy: 0.7763\n",
      "Epoch 11/20\n",
      "154/154 [==============================] - 1s 7ms/step - loss: 0.2747 - accuracy: 0.9031 - val_loss: 0.6558 - val_accuracy: 0.7727\n",
      "Epoch 12/20\n",
      "154/154 [==============================] - 1s 7ms/step - loss: 0.2594 - accuracy: 0.9100 - val_loss: 0.6824 - val_accuracy: 0.7669\n",
      "Epoch 13/20\n",
      "154/154 [==============================] - 1s 7ms/step - loss: 0.2440 - accuracy: 0.9166 - val_loss: 0.7049 - val_accuracy: 0.7656\n",
      "Epoch 14/20\n",
      "154/154 [==============================] - 1s 7ms/step - loss: 0.2276 - accuracy: 0.9229 - val_loss: 0.7427 - val_accuracy: 0.7654\n",
      "Epoch 15/20\n",
      "154/154 [==============================] - 1s 7ms/step - loss: 0.2240 - accuracy: 0.9221 - val_loss: 0.7742 - val_accuracy: 0.7630\n",
      "Epoch 16/20\n",
      "154/154 [==============================] - 1s 7ms/step - loss: 0.2190 - accuracy: 0.9262 - val_loss: 0.7843 - val_accuracy: 0.7630\n",
      "Epoch 17/20\n",
      "154/154 [==============================] - 1s 8ms/step - loss: 0.2103 - accuracy: 0.9253 - val_loss: 0.8023 - val_accuracy: 0.7589\n",
      "Epoch 18/20\n",
      "154/154 [==============================] - 1s 7ms/step - loss: 0.2018 - accuracy: 0.9327 - val_loss: 0.8278 - val_accuracy: 0.7563\n",
      "Epoch 19/20\n",
      "154/154 [==============================] - 1s 7ms/step - loss: 0.1963 - accuracy: 0.9318 - val_loss: 0.8608 - val_accuracy: 0.7547\n",
      "Epoch 20/20\n",
      "154/154 [==============================] - 1s 7ms/step - loss: 0.1827 - accuracy: 0.9349 - val_loss: 0.9026 - val_accuracy: 0.7500\n"
     ]
    }
   ],
   "source": [
    "ann_m = ann.fit(x_train,y_train,validation_split=0.2,epochs=20, batch_size=100)"
   ]
  },
  {
   "cell_type": "code",
   "execution_count": 53,
   "metadata": {},
   "outputs": [],
   "source": [
    "y_apre = ann.predict(x_test)"
   ]
  },
  {
   "cell_type": "code",
   "execution_count": 54,
   "metadata": {},
   "outputs": [
    {
     "data": {
      "text/plain": [
       "array([[9.99919057e-01, 6.37425255e-05, 1.71611391e-05],\n",
       "       [5.55968225e-01, 3.89376491e-01, 5.46552613e-02],\n",
       "       [9.65650834e-05, 9.80981231e-01, 1.89222209e-02],\n",
       "       ...,\n",
       "       [2.35934771e-04, 8.17726791e-01, 1.82037234e-01],\n",
       "       [3.06423157e-02, 8.44613135e-01, 1.24744534e-01],\n",
       "       [9.98270750e-01, 1.65774534e-03, 7.15591887e-05]], dtype=float32)"
      ]
     },
     "execution_count": 54,
     "metadata": {},
     "output_type": "execute_result"
    }
   ],
   "source": [
    "y_apre"
   ]
  },
  {
   "cell_type": "code",
   "execution_count": 55,
   "metadata": {},
   "outputs": [
    {
     "data": {
      "text/plain": [
       "array([0, 0, 1, ..., 1, 1, 0], dtype=int64)"
      ]
     },
     "execution_count": 55,
     "metadata": {},
     "output_type": "execute_result"
    }
   ],
   "source": [
    "y_apre = np.argmax(y_apre, axis =1)\n",
    "y_apre"
   ]
  },
  {
   "cell_type": "code",
   "execution_count": 56,
   "metadata": {},
   "outputs": [
    {
     "name": "stdout",
     "output_type": "stream",
     "text": [
      "0.75125\n"
     ]
    }
   ],
   "source": [
    "\n",
    "\n",
    "print(accuracy_score(y_apre,y_test))"
   ]
  },
  {
   "cell_type": "code",
   "execution_count": 57,
   "metadata": {},
   "outputs": [
    {
     "name": "stdout",
     "output_type": "stream",
     "text": [
      "[[1323  145  130]\n",
      " [ 221 1167  230]\n",
      " [ 223  245 1116]]\n"
     ]
    }
   ],
   "source": [
    "\n",
    "\n",
    "print(confusion_matrix(y_test, y_apre))"
   ]
  },
  {
   "cell_type": "code",
   "execution_count": 58,
   "metadata": {},
   "outputs": [
    {
     "data": {
      "text/plain": [
       "<matplotlib.legend.Legend at 0x1e30003a0a0>"
      ]
     },
     "execution_count": 58,
     "metadata": {},
     "output_type": "execute_result"
    },
    {
     "data": {
      "image/png": "[encoded data removed]",
      "text/plain": [
       "<Figure size 504x504 with 2 Axes>"
      ]
     },
     "metadata": {
      "needs_background": "light"
     },
     "output_type": "display_data"
    }
   ],
   "source": [
    "ran = np.arange(1,21)\n",
    "\n",
    "plt.figure(figsize=(7,7))\n",
    "plt.subplot(1,2,1)\n",
    "plt.plot(ran,ann_m.history['val_loss'],color='blue',label='validation loss')\n",
    "plt.plot(ran,ann_m.history['loss'],color='red',label = 'loss')\n",
    "plt.legend(['validation loss','loss'])\n",
    "plt.xlabel('epochs')\n",
    "plt.ylabel('loss')\n",
    "plt.subplot(1,2,2)\n",
    "# plt.figure(figsize=(7,7))\n",
    "plt.plot(ran,ann_m.history['accuracy'],label='accuracy')\n",
    "plt.xlabel('epochs')\n",
    "plt.ylabel('accuracy')\n",
    "plt.legend(['accuracy'])"
   ]
  },
  {
   "cell_type": "code",
   "execution_count": null,
   "metadata": {},
   "outputs": [],
   "source": []
  }
 ],
 "metadata": {
  "accelerator": "GPU",
  "colab": {
   "collapsed_sections": [],
   "name": "BTP_Project-02-04.ipynb",
   "provenance": []
  },
  "kernelspec": {
   "display_name": "Python 3 (ipykernel)",
   "language": "python",
   "name": "python3"
  },
  "language_info": {
   "codemirror_mode": {
    "name": "ipython",
    "version": 3
   },
   "file_extension": ".py",
   "mimetype": "text/x-python",
   "name": "python",
   "nbconvert_exporter": "python",
   "pygments_lexer": "ipython3",
   "version": "3.9.7"
  }
 },
 "nbformat": 4,
 "nbformat_minor": 1
}
